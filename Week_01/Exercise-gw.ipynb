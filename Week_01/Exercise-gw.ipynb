{
 "cells": [
  {
   "cell_type": "markdown",
   "metadata": {},
   "source": [
    "# First print your name in the cell below then save this file. (or something nice about your instructor)"
   ]
  },
  {
   "cell_type": "code",
   "execution_count": 1,
   "metadata": {},
   "outputs": [
    {
     "name": "stdout",
     "output_type": "stream",
     "text": [
      "Georgina Woo\n"
     ]
    }
   ],
   "source": [
    "# In this cell print your name \n",
    "print(\"Georgina Woo\")\n"
   ]
  },
  {
   "cell_type": "markdown",
   "metadata": {},
   "source": [
    "# Data wrangling with Pandas exercise\n",
    "* For this exercise we will be using the `listings.csv` data file."
   ]
  },
  {
   "cell_type": "code",
   "execution_count": 2,
   "metadata": {},
   "outputs": [],
   "source": [
    "import pandas as pd\n",
    "import numpy as np"
   ]
  },
  {
   "cell_type": "markdown",
   "metadata": {},
   "source": [
    "# Load in the data file using `pd.read_csv()`"
   ]
  },
  {
   "cell_type": "code",
   "execution_count": 3,
   "metadata": {},
   "outputs": [],
   "source": [
    "# Load data here\n",
    "df = pd.read_csv('data/listings.csv')"
   ]
  },
  {
   "cell_type": "code",
   "execution_count": 4,
   "metadata": {},
   "outputs": [
    {
     "data": {
      "text/html": [
       "<div>\n",
       "<style scoped>\n",
       "    .dataframe tbody tr th:only-of-type {\n",
       "        vertical-align: middle;\n",
       "    }\n",
       "\n",
       "    .dataframe tbody tr th {\n",
       "        vertical-align: top;\n",
       "    }\n",
       "\n",
       "    .dataframe thead th {\n",
       "        text-align: right;\n",
       "    }\n",
       "</style>\n",
       "<table border=\"1\" class=\"dataframe\">\n",
       "  <thead>\n",
       "    <tr style=\"text-align: right;\">\n",
       "      <th></th>\n",
       "      <th>id</th>\n",
       "      <th>name</th>\n",
       "      <th>host_id</th>\n",
       "      <th>host_name</th>\n",
       "      <th>neighbourhood_group</th>\n",
       "      <th>neighbourhood</th>\n",
       "      <th>latitude</th>\n",
       "      <th>longitude</th>\n",
       "      <th>room_type</th>\n",
       "      <th>price</th>\n",
       "      <th>minimum_nights</th>\n",
       "      <th>number_of_reviews</th>\n",
       "      <th>last_review</th>\n",
       "      <th>reviews_per_month</th>\n",
       "      <th>calculated_host_listings_count</th>\n",
       "      <th>availability_365</th>\n",
       "    </tr>\n",
       "  </thead>\n",
       "  <tbody>\n",
       "    <tr>\n",
       "      <th>0</th>\n",
       "      <td>2595</td>\n",
       "      <td>Skylit Midtown Castle</td>\n",
       "      <td>2845</td>\n",
       "      <td>Jennifer</td>\n",
       "      <td>Manhattan</td>\n",
       "      <td>Midtown</td>\n",
       "      <td>40.75362</td>\n",
       "      <td>-73.98377</td>\n",
       "      <td>Entire home/apt</td>\n",
       "      <td>175</td>\n",
       "      <td>3</td>\n",
       "      <td>48</td>\n",
       "      <td>2019-11-04</td>\n",
       "      <td>0.37</td>\n",
       "      <td>2</td>\n",
       "      <td>365</td>\n",
       "    </tr>\n",
       "    <tr>\n",
       "      <th>1</th>\n",
       "      <td>3831</td>\n",
       "      <td>Whole flr w/private bdrm, bath &amp; kitchen(pls r...</td>\n",
       "      <td>4869</td>\n",
       "      <td>LisaRoxanne</td>\n",
       "      <td>Brooklyn</td>\n",
       "      <td>Clinton Hill</td>\n",
       "      <td>40.68514</td>\n",
       "      <td>-73.95976</td>\n",
       "      <td>Entire home/apt</td>\n",
       "      <td>75</td>\n",
       "      <td>1</td>\n",
       "      <td>340</td>\n",
       "      <td>2020-08-01</td>\n",
       "      <td>4.75</td>\n",
       "      <td>1</td>\n",
       "      <td>265</td>\n",
       "    </tr>\n",
       "    <tr>\n",
       "      <th>2</th>\n",
       "      <td>5121</td>\n",
       "      <td>BlissArtsSpace!</td>\n",
       "      <td>7356</td>\n",
       "      <td>Garon</td>\n",
       "      <td>Brooklyn</td>\n",
       "      <td>Bedford-Stuyvesant</td>\n",
       "      <td>40.68688</td>\n",
       "      <td>-73.95596</td>\n",
       "      <td>Private room</td>\n",
       "      <td>60</td>\n",
       "      <td>29</td>\n",
       "      <td>50</td>\n",
       "      <td>2019-12-02</td>\n",
       "      <td>0.37</td>\n",
       "      <td>1</td>\n",
       "      <td>365</td>\n",
       "    </tr>\n",
       "    <tr>\n",
       "      <th>3</th>\n",
       "      <td>5136</td>\n",
       "      <td>Spacious Brooklyn Duplex, Patio + Garden</td>\n",
       "      <td>7378</td>\n",
       "      <td>Rebecca</td>\n",
       "      <td>Brooklyn</td>\n",
       "      <td>Sunset Park</td>\n",
       "      <td>40.66120</td>\n",
       "      <td>-73.99423</td>\n",
       "      <td>Entire home/apt</td>\n",
       "      <td>175</td>\n",
       "      <td>14</td>\n",
       "      <td>1</td>\n",
       "      <td>2014-01-02</td>\n",
       "      <td>0.01</td>\n",
       "      <td>1</td>\n",
       "      <td>295</td>\n",
       "    </tr>\n",
       "    <tr>\n",
       "      <th>4</th>\n",
       "      <td>5178</td>\n",
       "      <td>Large Furnished Room Near B'way</td>\n",
       "      <td>8967</td>\n",
       "      <td>Shunichi</td>\n",
       "      <td>Manhattan</td>\n",
       "      <td>Hell's Kitchen</td>\n",
       "      <td>40.76489</td>\n",
       "      <td>-73.98493</td>\n",
       "      <td>Private room</td>\n",
       "      <td>65</td>\n",
       "      <td>2</td>\n",
       "      <td>473</td>\n",
       "      <td>2020-03-15</td>\n",
       "      <td>3.44</td>\n",
       "      <td>1</td>\n",
       "      <td>340</td>\n",
       "    </tr>\n",
       "  </tbody>\n",
       "</table>\n",
       "</div>"
      ],
      "text/plain": [
       "     id                                               name  host_id  \\\n",
       "0  2595                              Skylit Midtown Castle     2845   \n",
       "1  3831  Whole flr w/private bdrm, bath & kitchen(pls r...     4869   \n",
       "2  5121                                    BlissArtsSpace!     7356   \n",
       "3  5136           Spacious Brooklyn Duplex, Patio + Garden     7378   \n",
       "4  5178                   Large Furnished Room Near B'way　     8967   \n",
       "\n",
       "     host_name neighbourhood_group       neighbourhood  latitude  longitude  \\\n",
       "0     Jennifer           Manhattan             Midtown  40.75362  -73.98377   \n",
       "1  LisaRoxanne            Brooklyn        Clinton Hill  40.68514  -73.95976   \n",
       "2        Garon            Brooklyn  Bedford-Stuyvesant  40.68688  -73.95596   \n",
       "3      Rebecca            Brooklyn         Sunset Park  40.66120  -73.99423   \n",
       "4     Shunichi           Manhattan      Hell's Kitchen  40.76489  -73.98493   \n",
       "\n",
       "         room_type  price  minimum_nights  number_of_reviews last_review  \\\n",
       "0  Entire home/apt    175               3                 48  2019-11-04   \n",
       "1  Entire home/apt     75               1                340  2020-08-01   \n",
       "2     Private room     60              29                 50  2019-12-02   \n",
       "3  Entire home/apt    175              14                  1  2014-01-02   \n",
       "4     Private room     65               2                473  2020-03-15   \n",
       "\n",
       "   reviews_per_month  calculated_host_listings_count  availability_365  \n",
       "0               0.37                               2               365  \n",
       "1               4.75                               1               265  \n",
       "2               0.37                               1               365  \n",
       "3               0.01                               1               295  \n",
       "4               3.44                               1               340  "
      ]
     },
     "execution_count": 4,
     "metadata": {},
     "output_type": "execute_result"
    }
   ],
   "source": [
    "df.head()"
   ]
  },
  {
   "cell_type": "markdown",
   "metadata": {},
   "source": [
    "## Exercise 2 - Filtering\n",
    "\n",
    "Return the following subsets of the dataframe.\n",
    "\n",
    "1. How many listings are there with a price less than 100? \n",
    "\n",
    "\n",
    "2. Find how many listings there are in just Brooklyn.\n",
    "\n",
    "\n",
    "3. Find how many listings there are in Brooklyn with a price less than 100.\n",
    "\n",
    "\n",
    "4. Using `.isin()` select anyone that has the host name of Michael, David, John, and Daniel.\n",
    "\n",
    "\n",
    "5. Create a new column called `adjusted_price` that has $100 added to every listing in Williamsburg.  The prices for all other listings should be the same as the were before. \n",
    "\n",
    "\n",
    "6. What % of the rooms are private, and what % of the rooms are shared.  \n",
    "    * Hint, use `.value_counts()`\n"
   ]
  },
  {
   "cell_type": "code",
   "execution_count": 5,
   "metadata": {},
   "outputs": [
    {
     "name": "stdout",
     "output_type": "stream",
     "text": [
      "1. How many listings are there with a price less than 100?\n",
      "22778\n"
     ]
    }
   ],
   "source": [
    "# 1. How many listings are there with a price less than 100? \n",
    "print(\"1. How many listings are there with a price less than 100?\")\n",
    "print(len(df[df['price'] < 100]))\n",
    "\n"
   ]
  },
  {
   "cell_type": "code",
   "execution_count": 6,
   "metadata": {},
   "outputs": [
    {
     "name": "stdout",
     "output_type": "stream",
     "text": [
      "2. Make a new DataFrame of listings in Brooklyn named `df_bk` and find how many listings in just Brooklyn.\n",
      "18632\n"
     ]
    }
   ],
   "source": [
    "# 2. Make a new DataFrame of listings in Brooklyn named `df_bk` \n",
    "# and find how many listings in just Brooklyn.\n",
    "print(\"2. Make a new DataFrame of listings in Brooklyn named `df_bk` and find how many listings in just Brooklyn.\")\n",
    "df_bk = df[df['neighbourhood_group'] == 'Brooklyn']\n",
    "print(len(df_bk))\n"
   ]
  },
  {
   "cell_type": "code",
   "execution_count": 7,
   "metadata": {},
   "outputs": [
    {
     "name": "stdout",
     "output_type": "stream",
     "text": [
      "3. Find how many listings there are in Brooklyn with a price less than 100.\n",
      "10473\n"
     ]
    }
   ],
   "source": [
    "# 3. Find how many listings there are in Brooklyn with a price less than 100.\n",
    "print(\"3. Find how many listings there are in Brooklyn with a price less than 100.\")\n",
    "print(len(df_bk[df_bk['price'] < 100]))\n",
    "\n"
   ]
  },
  {
   "cell_type": "code",
   "execution_count": 8,
   "metadata": {},
   "outputs": [
    {
     "name": "stdout",
     "output_type": "stream",
     "text": [
      "4. Using `.isin()` select anyone that has the host name of Michael, David, John, and Daniel. How many total are there that have those names\n",
      "1258\n"
     ]
    }
   ],
   "source": [
    "# 4. Using `.isin()` select anyone that has the host name of Michael, David, John, and Daniel.\n",
    "# How many total are there that have those names\n",
    "print(\"4. Using `.isin()` select anyone that has the host name of Michael, David, John, and Daniel. How many total are there that have those names\")\n",
    "print(len(df[df['host_name'].isin(['Michael', 'David', 'John', 'Daniel'])]))\n"
   ]
  },
  {
   "cell_type": "code",
   "execution_count": 9,
   "metadata": {},
   "outputs": [
    {
     "name": "stdout",
     "output_type": "stream",
     "text": [
      "5. Create a new column called `adjusted_price` that has $100 added to every listing in Williamsburg.\n"
     ]
    }
   ],
   "source": [
    "# 5. Create a new column called `adjusted_price` that has $100 added to every listing in Williamsburg.  \n",
    "# The prices for all other listings should be the same as the were before. \n",
    "print(\"5. Create a new column called `adjusted_price` that has $100 added to every listing in Williamsburg.\")\n",
    "df['adjusted_price'] = np.where(df['neighbourhood'] == 'Williamsburg', df['price'] + 100, df['price'])"
   ]
  },
  {
   "cell_type": "code",
   "execution_count": 10,
   "metadata": {},
   "outputs": [
    {
     "name": "stdout",
     "output_type": "stream",
     "text": [
      "6. What % of the rooms are private, and what % of the rooms are shared.\n",
      "Private rooms: 45.444580566122895%\n",
      "Shared rooms:  2.12134889419047%\n"
     ]
    }
   ],
   "source": [
    "# 6. What % of the rooms are private, and what % of the rooms are shared.  \n",
    "print(\"6. What % of the rooms are private, and what % of the rooms are shared.\")\n",
    "room_types = df['room_type'].value_counts()\n",
    "print(\"Private rooms:\",str((room_types['Private room'] / room_types.sum()) * 100)+\"%\")\n",
    "print(\"Shared rooms: \", str((room_types['Shared room'] / room_types.sum()) * 100)+\"%\")\n",
    "\n"
   ]
  },
  {
   "cell_type": "markdown",
   "metadata": {},
   "source": [
    "# Exercise 3 - Grouping\n",
    "\n",
    "1. Using `groupby`, count how many listings are in each neighbourhood_group.\n",
    "\n",
    "\n",
    "2. Using `groupby`, find the mean price for each of the neighbourhood_groups. \n",
    "\n",
    "\n",
    "3. Using `groupby` and `.agg()`, find the min and max price for each of the neighbourhood_groups. \n",
    "\n",
    "\n",
    "4. Using `groupby`, find the median price for each room type in each neighbourhood_group.\n",
    "\n",
    "\n",
    "5. Using `groupby` and `.agg()`, find the count, min, max, mean, median, and std of the prices for each room type in each neighbourhood_group."
   ]
  },
  {
   "cell_type": "code",
   "execution_count": 11,
   "metadata": {},
   "outputs": [
    {
     "name": "stdout",
     "output_type": "stream",
     "text": [
      "1. Using `groupby`, count how many listings are in each neighbourhood_group.\n",
      "neighbourhood_group\n",
      "Bronx             1183\n",
      "Brooklyn         18632\n",
      "Manhattan        20580\n",
      "Queens            5791\n",
      "Staten Island      341\n",
      "dtype: int64\n"
     ]
    }
   ],
   "source": [
    "# 1. Using `groupby`, count how many listings are in each neighbourhood_group.\n",
    "print(\"1. Using `groupby`, count how many listings are in each neighbourhood_group.\")\n",
    "print(df.groupby('neighbourhood_group').size())\n",
    "\n"
   ]
  },
  {
   "cell_type": "code",
   "execution_count": 12,
   "metadata": {},
   "outputs": [
    {
     "name": "stdout",
     "output_type": "stream",
     "text": [
      "2. Using `groupby`, find the mean price for each of the neighbourhood_groups.\n",
      "neighbourhood_group\n",
      "Bronx             92.751479\n",
      "Brooklyn         120.225258\n",
      "Manhattan        191.880466\n",
      "Queens            99.754965\n",
      "Staten Island    110.947214\n",
      "Name: price, dtype: float64\n"
     ]
    }
   ],
   "source": [
    "# 2. Using `groupby`, find the mean price for each of the neighbourhood_groups. \n",
    "print(\"2. Using `groupby`, find the mean price for each of the neighbourhood_groups.\")\n",
    "print(df.groupby('neighbourhood_group')['price'].mean())\n",
    "\n"
   ]
  },
  {
   "cell_type": "code",
   "execution_count": 13,
   "metadata": {},
   "outputs": [
    {
     "name": "stdout",
     "output_type": "stream",
     "text": [
      "2.5. Using `groupby`, find the mean price for each room_type.\n",
      "room_type\n",
      "Entire home/apt    199.395950\n",
      "Hotel room         275.015075\n",
      "Private room        91.453084\n",
      "Shared room         87.063830\n",
      "Name: price, dtype: float64\n"
     ]
    }
   ],
   "source": [
    "# 2.5. Using `groupby`, find the mean price for each room_type. \n",
    "print(\"2.5. Using `groupby`, find the mean price for each room_type.\")\n",
    "print(df.groupby('room_type')['price'].mean())"
   ]
  },
  {
   "cell_type": "code",
   "execution_count": 14,
   "metadata": {},
   "outputs": [
    {
     "name": "stdout",
     "output_type": "stream",
     "text": [
      "3. Using `groupby` and `.agg()`, find the min and max price for each of the neighbourhood_groups.\n",
      "                     min    max\n",
      "neighbourhood_group            \n",
      "Bronx                 16   1404\n",
      "Brooklyn               0  10000\n",
      "Manhattan              0  10000\n",
      "Queens                 0  10000\n",
      "Staten Island         19   1200\n"
     ]
    }
   ],
   "source": [
    "# 3. Using `groupby` and `.agg()`, find the min and max price for each of the neighbourhood_groups. \n",
    "print(\"3. Using `groupby` and `.agg()`, find the min and max price for each of the neighbourhood_groups.\")\n",
    "print(df.groupby('neighbourhood_group')['price'].agg([min, max]))\n",
    "\n"
   ]
  },
  {
   "cell_type": "code",
   "execution_count": 15,
   "metadata": {},
   "outputs": [
    {
     "name": "stdout",
     "output_type": "stream",
     "text": [
      "4. Using `groupby`, find the mean price for each room_type in each neighbourhood_group.\n",
      "neighbourhood_group  room_type      \n",
      "Bronx                Entire home/apt    138.004819\n",
      "                     Private room        68.419668\n",
      "                     Shared room         66.391304\n",
      "Brooklyn             Entire home/apt    171.587687\n",
      "                     Hotel room         147.300000\n",
      "                     Private room        71.291189\n",
      "                     Shared room         57.870091\n",
      "Manhattan            Entire home/apt    231.335572\n",
      "                     Hotel room         292.515670\n",
      "                     Private room       128.277069\n",
      "                     Shared room        111.735084\n",
      "Queens               Entire home/apt    150.168900\n",
      "                     Hotel room         139.058824\n",
      "                     Private room        69.972564\n",
      "                     Shared room         89.891892\n",
      "Staten Island        Entire home/apt    151.720930\n",
      "                     Private room        70.312883\n",
      "                     Shared room         46.000000\n",
      "Name: price, dtype: float64\n"
     ]
    }
   ],
   "source": [
    "# 4. Using `groupby`, find the mean price for each room_type in each neighbourhood_group.\n",
    "print(\"4. Using `groupby`, find the mean price for each room_type in each neighbourhood_group.\")\n",
    "print(df.groupby(['neighbourhood_group', 'room_type'])['price'].mean())\n",
    "\n"
   ]
  },
  {
   "cell_type": "code",
   "execution_count": 16,
   "metadata": {},
   "outputs": [
    {
     "name": "stdout",
     "output_type": "stream",
     "text": [
      "5. Using `groupby` and `.agg()`, find the count, min, max, mean, median, and std of the prices for each room type in each neighbourhood_group.\n",
      "                                     count  min    max        mean  median  \\\n",
      "neighbourhood_group room_type                                                \n",
      "Bronx               Entire home/apt    415   25   1404  138.004819   103.0   \n",
      "                    Private room       722   16    700   68.419668    55.0   \n",
      "                    Shared room         46   20    800   66.391304    44.0   \n",
      "Brooklyn            Entire home/apt   9112   20  10000  171.587687   135.0   \n",
      "                    Hotel room          30    0    399  147.300000   129.0   \n",
      "                    Private room      9159   10   2500   71.291189    60.0   \n",
      "                    Shared room        331   15   1500   57.870091    36.0   \n",
      "Manhattan           Entire home/apt  12209    0  10000  231.335572   165.0   \n",
      "                    Hotel room         351    0   2211  292.515670   210.0   \n",
      "                    Private room      7601   10  10000  128.277069    80.0   \n",
      "                    Shared room        419   10  10000  111.735084    60.0   \n",
      "Queens              Entire home/apt   2090   10  10000  150.168900   115.0   \n",
      "                    Hotel room          17    0    249  139.058824   149.0   \n",
      "                    Private room      3499   18   9000   69.972564    55.0   \n",
      "                    Shared room        185   14   3000   89.891892    40.0   \n",
      "Staten Island       Entire home/apt    172   39   1200  151.720930   111.0   \n",
      "                    Private room       163   20    800   70.312883    55.0   \n",
      "                    Shared room          6   19     82   46.000000    38.0   \n",
      "\n",
      "                                            std  \n",
      "neighbourhood_group room_type                    \n",
      "Bronx               Entire home/apt  126.032106  \n",
      "                    Private room      57.337866  \n",
      "                    Shared room      114.442703  \n",
      "Brooklyn            Entire home/apt  236.732843  \n",
      "                    Hotel room        91.153206  \n",
      "                    Private room      69.023165  \n",
      "                    Shared room       92.217618  \n",
      "Manhattan           Entire home/apt  410.306439  \n",
      "                    Hotel room       315.924085  \n",
      "                    Private room     448.677306  \n",
      "                    Shared room      502.728868  \n",
      "Queens              Entire home/apt  252.606739  \n",
      "                    Hotel room        50.743806  \n",
      "                    Private room     163.814468  \n",
      "                    Shared room      275.675158  \n",
      "Staten Island       Entire home/apt  147.518392  \n",
      "                    Private room      70.759593  \n",
      "                    Shared room       28.446441  \n"
     ]
    }
   ],
   "source": [
    "# 5. Using `groupby` and `.agg()`, find the count, min, max, mean, median, and std of the prices \n",
    "# for each room type in each neighbourhood_group.\n",
    "print(\"5. Using `groupby` and `.agg()`, find the count, min, max, mean, median, and std of the prices for each room type in each neighbourhood_group.\")\n",
    "print(df.groupby(['neighbourhood_group', 'room_type'])['price'].agg(['count', min, max, np.mean, np.median, np.std]))\n",
    "\n",
    "\n",
    "#agg is a function that lets you run a bunch of functions on a groupby object."
   ]
  },
  {
   "cell_type": "markdown",
   "metadata": {},
   "source": [
    "# Join and file saving.\n",
    "1. Load the `prices.csv` and the `n_listings.csv`\n",
    "\n",
    "\n",
    "2. Do join that keeps all the records for each table.\n",
    "    * Neighbourhood groups should include ['Bronx', 'Brooklyn', 'Manhattan', 'Queens', 'Staten Island',\n",
    "       'LongIsland']\n",
    "       \n",
    "       \n",
    "3. Save your joined csv as `joined.csv`\n",
    "\n",
    "\n",
    "4. Load your saved table and see if it looks the same or different that the DataFrame you used to create it. "
   ]
  },
  {
   "cell_type": "code",
   "execution_count": 17,
   "metadata": {},
   "outputs": [
    {
     "name": "stdout",
     "output_type": "stream",
     "text": [
      "1. Load the `prices.csv` and the `n_listings.csv`\n"
     ]
    }
   ],
   "source": [
    "# 1. Load the `prices.csv` and the `n_listings.csv`\n",
    "print(\"1. Load the `prices.csv` and the `n_listings.csv`\")\n",
    "prices = pd.read_csv('data/prices.csv')\n",
    "n_listings = pd.read_csv('data/n_listings.csv')\n"
   ]
  },
  {
   "cell_type": "code",
   "execution_count": 18,
   "metadata": {},
   "outputs": [
    {
     "name": "stdout",
     "output_type": "stream",
     "text": [
      "  neighbourhood_group   mean_price\n",
      "0               Bronx    92.751479\n",
      "1            Brooklyn   120.225258\n",
      "2           Manhattan   191.880466\n",
      "3              Queens    99.754965\n",
      "4       Staten Island   110.947214\n",
      "  neighbourhood_group;n_listings\n",
      "0                     Bronx;1183\n",
      "1                 Brooklyn;18632\n",
      "2                Manhattan;20580\n",
      "3                LongIsland;4121\n",
      "(5, 2)\n",
      "(4, 1)\n"
     ]
    }
   ],
   "source": [
    "print(prices.head())\n",
    "print(n_listings.head())\n",
    "print(prices.shape)\n",
    "print(n_listings.shape)"
   ]
  },
  {
   "cell_type": "code",
   "execution_count": 19,
   "metadata": {},
   "outputs": [],
   "source": [
    "# Since n_listings is shaped 4,1 and separated by semicolon, we need to turn it into 4,2\n",
    "n_listings = n_listings['neighbourhood_group;n_listings'].str.split(';', expand=True)"
   ]
  },
  {
   "cell_type": "code",
   "execution_count": 20,
   "metadata": {},
   "outputs": [
    {
     "name": "stdout",
     "output_type": "stream",
     "text": [
      "            0      1\n",
      "0       Bronx   1183\n",
      "1    Brooklyn  18632\n",
      "2   Manhattan  20580\n",
      "3  LongIsland   4121\n"
     ]
    }
   ],
   "source": [
    "print(n_listings.head())"
   ]
  },
  {
   "cell_type": "code",
   "execution_count": 21,
   "metadata": {},
   "outputs": [],
   "source": [
    "# Fix the `n_listings` DataFrame so that it has the correct names of the columns: `neighbourhood_group` and `n_listings`\n",
    "n_listings.columns = ['neighbourhood_group', 'n_listings']"
   ]
  },
  {
   "cell_type": "code",
   "execution_count": 22,
   "metadata": {},
   "outputs": [
    {
     "name": "stdout",
     "output_type": "stream",
     "text": [
      "2. Do join that keeps all the records for each table. Neibourhood groups should include: Bronx, Brooklyn, Manhattan, Queens, Staten Island, LongIsland.\n",
      "  neighbourhood_group   mean_price n_listings\n",
      "0               Bronx    92.751479       1183\n",
      "1            Brooklyn   120.225258      18632\n",
      "2           Manhattan   191.880466      20580\n",
      "3              Queens    99.754965        NaN\n",
      "4       Staten Island   110.947214        NaN\n",
      "5          LongIsland          NaN       4121\n"
     ]
    }
   ],
   "source": [
    "# 2. Do join that keeps all the records for each table. Neibourhood groups should include: Bronx, Brooklyn, Manhattan, Queens, Staten Island, LongIsland.\n",
    "print(\"2. Do join that keeps all the records for each table. Neibourhood groups should include: Bronx, Brooklyn, Manhattan, Queens, Staten Island, LongIsland.\")\n",
    "print(pd.merge(prices, n_listings, on='neighbourhood_group', how='outer'))\n",
    "\n",
    "\n"
   ]
  },
  {
   "cell_type": "markdown",
   "metadata": {},
   "source": [
    "# Extra Credit\n",
    "Every question below this cell is extra credit and optional."
   ]
  },
  {
   "cell_type": "markdown",
   "metadata": {},
   "source": [
    "### 1. (Easy) Explore this new PandasAI Package and tell me what its all about because I've never used it. \n",
    "* https://www.youtube.com/watch?v=5w6eZaoDVVk&ab_channel=CodingIsFun  \n",
    "* See if you can use it on the listings.csv to find out some cool info. or answer some of the questions above. "
   ]
  },
  {
   "cell_type": "markdown",
   "metadata": {},
   "source": [
    "## To install the `pandasai` package using a bash command, you can use the following command:\n",
    "\n",
    "```bash\n",
    "pip install pandasai\n",
    "```\n",
    "\n",
    "This command will install the `pandasai` package using the `pip` package manager."
   ]
  },
  {
   "cell_type": "markdown",
   "metadata": {},
   "source": [
    "Documentation: https://docs.pandas-ai.com/intro"
   ]
  },
  {
   "cell_type": "code",
   "execution_count": 2,
   "metadata": {},
   "outputs": [],
   "source": [
    "from pandasai import SmartDataframe\n",
    "from pandasai.llm import OpenAI"
   ]
  },
  {
   "cell_type": "code",
   "execution_count": 25,
   "metadata": {},
   "outputs": [],
   "source": [
    "\n",
    "llm = OpenAI(api_token=\"api-token-here\")\n",
    "pandas_ai = SmartDataframe(\"data/listings.csv\", config={\"llm\": llm})"
   ]
  },
  {
   "cell_type": "code",
   "execution_count": 33,
   "metadata": {},
   "outputs": [
    {
     "data": {
      "text/html": [
       "<div>\n",
       "<style scoped>\n",
       "    .dataframe tbody tr th:only-of-type {\n",
       "        vertical-align: middle;\n",
       "    }\n",
       "\n",
       "    .dataframe tbody tr th {\n",
       "        vertical-align: top;\n",
       "    }\n",
       "\n",
       "    .dataframe thead th {\n",
       "        text-align: right;\n",
       "    }\n",
       "</style>\n",
       "<table border=\"1\" class=\"dataframe\">\n",
       "  <thead>\n",
       "    <tr style=\"text-align: right;\">\n",
       "      <th></th>\n",
       "      <th>id</th>\n",
       "      <th>name</th>\n",
       "      <th>host_id</th>\n",
       "      <th>host_name</th>\n",
       "      <th>neighbourhood_group</th>\n",
       "      <th>neighbourhood</th>\n",
       "      <th>latitude</th>\n",
       "      <th>longitude</th>\n",
       "      <th>room_type</th>\n",
       "      <th>price</th>\n",
       "      <th>minimum_nights</th>\n",
       "      <th>number_of_reviews</th>\n",
       "      <th>last_review</th>\n",
       "      <th>reviews_per_month</th>\n",
       "      <th>calculated_host_listings_count</th>\n",
       "      <th>availability_365</th>\n",
       "    </tr>\n",
       "  </thead>\n",
       "  <tbody>\n",
       "    <tr>\n",
       "      <th>0</th>\n",
       "      <td>2595</td>\n",
       "      <td>Skylit Midtown Castle</td>\n",
       "      <td>2845</td>\n",
       "      <td>Jennifer</td>\n",
       "      <td>Manhattan</td>\n",
       "      <td>Midtown</td>\n",
       "      <td>40.75362</td>\n",
       "      <td>-73.98377</td>\n",
       "      <td>Entire home/apt</td>\n",
       "      <td>175</td>\n",
       "      <td>3</td>\n",
       "      <td>48</td>\n",
       "      <td>2019-11-04</td>\n",
       "      <td>0.37</td>\n",
       "      <td>2</td>\n",
       "      <td>365</td>\n",
       "    </tr>\n",
       "    <tr>\n",
       "      <th>1</th>\n",
       "      <td>3831</td>\n",
       "      <td>Whole flr w/private bdrm, bath &amp; kitchen(pls r...</td>\n",
       "      <td>4869</td>\n",
       "      <td>LisaRoxanne</td>\n",
       "      <td>Brooklyn</td>\n",
       "      <td>Clinton Hill</td>\n",
       "      <td>40.68514</td>\n",
       "      <td>-73.95976</td>\n",
       "      <td>Entire home/apt</td>\n",
       "      <td>75</td>\n",
       "      <td>1</td>\n",
       "      <td>340</td>\n",
       "      <td>2020-08-01</td>\n",
       "      <td>4.75</td>\n",
       "      <td>1</td>\n",
       "      <td>265</td>\n",
       "    </tr>\n",
       "    <tr>\n",
       "      <th>2</th>\n",
       "      <td>5121</td>\n",
       "      <td>BlissArtsSpace!</td>\n",
       "      <td>7356</td>\n",
       "      <td>Garon</td>\n",
       "      <td>Brooklyn</td>\n",
       "      <td>Bedford-Stuyvesant</td>\n",
       "      <td>40.68688</td>\n",
       "      <td>-73.95596</td>\n",
       "      <td>Private room</td>\n",
       "      <td>60</td>\n",
       "      <td>29</td>\n",
       "      <td>50</td>\n",
       "      <td>2019-12-02</td>\n",
       "      <td>0.37</td>\n",
       "      <td>1</td>\n",
       "      <td>365</td>\n",
       "    </tr>\n",
       "    <tr>\n",
       "      <th>3</th>\n",
       "      <td>5136</td>\n",
       "      <td>Spacious Brooklyn Duplex, Patio + Garden</td>\n",
       "      <td>7378</td>\n",
       "      <td>Rebecca</td>\n",
       "      <td>Brooklyn</td>\n",
       "      <td>Sunset Park</td>\n",
       "      <td>40.66120</td>\n",
       "      <td>-73.99423</td>\n",
       "      <td>Entire home/apt</td>\n",
       "      <td>175</td>\n",
       "      <td>14</td>\n",
       "      <td>1</td>\n",
       "      <td>2014-01-02</td>\n",
       "      <td>0.01</td>\n",
       "      <td>1</td>\n",
       "      <td>295</td>\n",
       "    </tr>\n",
       "    <tr>\n",
       "      <th>4</th>\n",
       "      <td>5178</td>\n",
       "      <td>Large Furnished Room Near B'way</td>\n",
       "      <td>8967</td>\n",
       "      <td>Shunichi</td>\n",
       "      <td>Manhattan</td>\n",
       "      <td>Hell's Kitchen</td>\n",
       "      <td>40.76489</td>\n",
       "      <td>-73.98493</td>\n",
       "      <td>Private room</td>\n",
       "      <td>65</td>\n",
       "      <td>2</td>\n",
       "      <td>473</td>\n",
       "      <td>2020-03-15</td>\n",
       "      <td>3.44</td>\n",
       "      <td>1</td>\n",
       "      <td>340</td>\n",
       "    </tr>\n",
       "  </tbody>\n",
       "</table>\n",
       "</div>"
      ],
      "text/plain": [
       "     id                                               name  host_id  \\\n",
       "0  2595                              Skylit Midtown Castle     2845   \n",
       "1  3831  Whole flr w/private bdrm, bath & kitchen(pls r...     4869   \n",
       "2  5121                                    BlissArtsSpace!     7356   \n",
       "3  5136           Spacious Brooklyn Duplex, Patio + Garden     7378   \n",
       "4  5178                   Large Furnished Room Near B'way　     8967   \n",
       "\n",
       "     host_name neighbourhood_group       neighbourhood  latitude  longitude  \\\n",
       "0     Jennifer           Manhattan             Midtown  40.75362  -73.98377   \n",
       "1  LisaRoxanne            Brooklyn        Clinton Hill  40.68514  -73.95976   \n",
       "2        Garon            Brooklyn  Bedford-Stuyvesant  40.68688  -73.95596   \n",
       "3      Rebecca            Brooklyn         Sunset Park  40.66120  -73.99423   \n",
       "4     Shunichi           Manhattan      Hell's Kitchen  40.76489  -73.98493   \n",
       "\n",
       "         room_type  price  minimum_nights  number_of_reviews last_review  \\\n",
       "0  Entire home/apt    175               3                 48  2019-11-04   \n",
       "1  Entire home/apt     75               1                340  2020-08-01   \n",
       "2     Private room     60              29                 50  2019-12-02   \n",
       "3  Entire home/apt    175              14                  1  2014-01-02   \n",
       "4     Private room     65               2                473  2020-03-15   \n",
       "\n",
       "   reviews_per_month  calculated_host_listings_count  availability_365  \n",
       "0               0.37                               2               365  \n",
       "1               4.75                               1               265  \n",
       "2               0.37                               1               365  \n",
       "3               0.01                               1               295  \n",
       "4               3.44                               1               340  "
      ]
     },
     "execution_count": 33,
     "metadata": {},
     "output_type": "execute_result"
    }
   ],
   "source": [
    "df = pd.read_csv('data/listings.csv')\n",
    "df.head()"
   ]
  },
  {
   "cell_type": "code",
   "execution_count": null,
   "metadata": {},
   "outputs": [],
   "source": [
    "pandas_ai.run(df, prompt=\"What is the average price of listings in Brooklyn?\")"
   ]
  },
  {
   "cell_type": "markdown",
   "metadata": {},
   "source": [
    "### 2. (Very Easy) Find other cool Panda packages / add ons and show us what they can do well. And how you installed them. "
   ]
  },
  {
   "cell_type": "markdown",
   "metadata": {},
   "source": [
    "1: Pandasql\n",
    "pip install pandasql"
   ]
  },
  {
   "cell_type": "code",
   "execution_count": null,
   "metadata": {},
   "outputs": [],
   "source": [
    "import pandas as pd\n",
    "import pandasql as psql\n",
    "\n",
    "df = pd.read_csv('data/listings.csv')\n",
    "\n",
    "query = \"SELECT * FROM df LIMIT 5\"\n",
    "\n",
    "# Execute the query\n",
    "result = psql.sqldf(query, locals())\n",
    "\n",
    "print(result)"
   ]
  },
  {
   "cell_type": "markdown",
   "metadata": {},
   "source": [
    "### 3. (Medium) Use the grammys.csv data for the next section of questions.\n",
    "\n",
    "1. Who was won Album of the Year in 2016?\n",
    "\n",
    "\n",
    "2. Who won Best Rap Album in 2009?\n",
    "\n",
    "\n",
    "3. How many awards was Kendrick Lamar nomiated for, and how many did he win...?"
   ]
  },
  {
   "cell_type": "code",
   "execution_count": 19,
   "metadata": {},
   "outputs": [
    {
     "name": "stdout",
     "output_type": "stream",
     "text": [
      "Album of the year winner in 2016: \n",
      " - 1989. by Taylor Swift (artist/producer), Jack Antonoff (producer/engineer/mixer), Nathan Chapman (producer/engineer/mixer), Imogen Heap (producer/engineer/mixer), Max Martin (producer), Mattias Larsson (producer), Robin Fredriksson (producer), Ali Payami (producer), Shellback (producer), Ryan Tedder (producer/engineer/mixer), Noel Zancanella (producer), Mattias Bylund (engineer/mixer), Serban Ghenea (engineer/mixer), John Hanes (engineer/mixer), Sam Holland (engineer/mixer), Michael Ilbert (engineer/mixer), Tom Coyne (mastering engineer)\n",
      "Best rap album 2009: \n",
      " - Tha Carter III by Lil' Wayne\n",
      "Kendrick Lamar was nominated for 6 awards and won 4 awards.\n"
     ]
    }
   ],
   "source": [
    "# Load the Grammy Awards data\n",
    "df = pd.read_csv('data/grammys.csv')\n",
    "\n",
    "#print(df.head())\n",
    "\n",
    "# Find the Album of the Year winner for 2016\n",
    "album_of_the_year_2016 = df[(df['year'] == 2016) & (df['category'] == 'Album of the Year') & (df['winner'] == True)]\n",
    "print(\"Album of the year winner in 2016: \")\n",
    "for index, row in album_of_the_year_2016.iterrows():\n",
    "    print(f\" - {row['nominee']} by {row['workers']}\")\n",
    "\n",
    "# Find the Best Rap Album winner for 2009\n",
    "best_rap_album_2009 = df[(df['year'] == 2009) & (df['category'] == 'Best Rap Album') & (df['winner'] == True)]\n",
    "print(\"Best rap album 2009: \")\n",
    "for index, row in best_rap_album_2009.iterrows():\n",
    "    print(f\" - {row['nominee']} by {row['workers']}\")\n",
    "\n",
    "# Find Kendrick Lamar's nominations\n",
    "kendrick_nominations = df[df['workers'] == 'Kendrick Lamar']\n",
    "\n",
    "# Count the number of nominations\n",
    "num_nominations = kendrick_nominations.shape[0]\n",
    "\n",
    "# Count the number of awards won\n",
    "num_wins = kendrick_nominations[kendrick_nominations['winner'] == True].shape[0]\n",
    "\n",
    "print(f\"Kendrick Lamar was nominated for {num_nominations} awards and won {num_wins} awards.\")"
   ]
  },
  {
   "cell_type": "markdown",
   "metadata": {},
   "source": [
    "### (Hard) Load the Game Logs for 2022 and add the column names using a dictionary.  \n",
    "* [Link to the data page](https://www.retrosheet.org/gamelogs/)\n",
    "* [Link to the column names](https://procatinator.com/)\n",
    "* haha, gotta find them yourself!"
   ]
  },
  {
   "cell_type": "code",
   "execution_count": 21,
   "metadata": {},
   "outputs": [
    {
     "data": {
      "text/html": [
       "<div>\n",
       "<style scoped>\n",
       "    .dataframe tbody tr th:only-of-type {\n",
       "        vertical-align: middle;\n",
       "    }\n",
       "\n",
       "    .dataframe tbody tr th {\n",
       "        vertical-align: top;\n",
       "    }\n",
       "\n",
       "    .dataframe thead th {\n",
       "        text-align: right;\n",
       "    }\n",
       "</style>\n",
       "<table border=\"1\" class=\"dataframe\">\n",
       "  <thead>\n",
       "    <tr style=\"text-align: right;\">\n",
       "      <th></th>\n",
       "      <th>0</th>\n",
       "      <th>1</th>\n",
       "      <th>2</th>\n",
       "      <th>3</th>\n",
       "      <th>4</th>\n",
       "      <th>5</th>\n",
       "      <th>6</th>\n",
       "      <th>7</th>\n",
       "      <th>8</th>\n",
       "      <th>9</th>\n",
       "      <th>...</th>\n",
       "      <th>151</th>\n",
       "      <th>152</th>\n",
       "      <th>153</th>\n",
       "      <th>154</th>\n",
       "      <th>155</th>\n",
       "      <th>156</th>\n",
       "      <th>157</th>\n",
       "      <th>158</th>\n",
       "      <th>159</th>\n",
       "      <th>160</th>\n",
       "    </tr>\n",
       "  </thead>\n",
       "  <tbody>\n",
       "    <tr>\n",
       "      <th>0</th>\n",
       "      <td>20220407</td>\n",
       "      <td>0</td>\n",
       "      <td>Thu</td>\n",
       "      <td>SDN</td>\n",
       "      <td>NL</td>\n",
       "      <td>1</td>\n",
       "      <td>ARI</td>\n",
       "      <td>NL</td>\n",
       "      <td>1</td>\n",
       "      <td>2</td>\n",
       "      <td>...</td>\n",
       "      <td>Seth Beer</td>\n",
       "      <td>10</td>\n",
       "      <td>ellid002</td>\n",
       "      <td>Drew Ellis</td>\n",
       "      <td>5</td>\n",
       "      <td>perdg001</td>\n",
       "      <td>Gerardo Perdomo</td>\n",
       "      <td>6</td>\n",
       "      <td>NaN</td>\n",
       "      <td>Y</td>\n",
       "    </tr>\n",
       "    <tr>\n",
       "      <th>1</th>\n",
       "      <td>20220407</td>\n",
       "      <td>0</td>\n",
       "      <td>Thu</td>\n",
       "      <td>CIN</td>\n",
       "      <td>NL</td>\n",
       "      <td>1</td>\n",
       "      <td>ATL</td>\n",
       "      <td>NL</td>\n",
       "      <td>1</td>\n",
       "      <td>6</td>\n",
       "      <td>...</td>\n",
       "      <td>Travis d'Arnaud</td>\n",
       "      <td>2</td>\n",
       "      <td>dicka001</td>\n",
       "      <td>Alex Dickerson</td>\n",
       "      <td>10</td>\n",
       "      <td>swand001</td>\n",
       "      <td>Dansby Swanson</td>\n",
       "      <td>6</td>\n",
       "      <td>NaN</td>\n",
       "      <td>Y</td>\n",
       "    </tr>\n",
       "    <tr>\n",
       "      <th>2</th>\n",
       "      <td>20220407</td>\n",
       "      <td>0</td>\n",
       "      <td>Thu</td>\n",
       "      <td>MIL</td>\n",
       "      <td>NL</td>\n",
       "      <td>1</td>\n",
       "      <td>CHN</td>\n",
       "      <td>NL</td>\n",
       "      <td>1</td>\n",
       "      <td>4</td>\n",
       "      <td>...</td>\n",
       "      <td>Jason Heyward</td>\n",
       "      <td>8</td>\n",
       "      <td>wisdp001</td>\n",
       "      <td>Patrick Wisdom</td>\n",
       "      <td>5</td>\n",
       "      <td>hoern001</td>\n",
       "      <td>Nico Hoerner</td>\n",
       "      <td>6</td>\n",
       "      <td>NaN</td>\n",
       "      <td>Y</td>\n",
       "    </tr>\n",
       "    <tr>\n",
       "      <th>3</th>\n",
       "      <td>20220407</td>\n",
       "      <td>0</td>\n",
       "      <td>Thu</td>\n",
       "      <td>PIT</td>\n",
       "      <td>NL</td>\n",
       "      <td>1</td>\n",
       "      <td>SLN</td>\n",
       "      <td>NL</td>\n",
       "      <td>1</td>\n",
       "      <td>0</td>\n",
       "      <td>...</td>\n",
       "      <td>Yadier Molina</td>\n",
       "      <td>2</td>\n",
       "      <td>badeh001</td>\n",
       "      <td>Harrison Bader</td>\n",
       "      <td>8</td>\n",
       "      <td>edmat001</td>\n",
       "      <td>Tommy Edman</td>\n",
       "      <td>4</td>\n",
       "      <td>NaN</td>\n",
       "      <td>Y</td>\n",
       "    </tr>\n",
       "    <tr>\n",
       "      <th>4</th>\n",
       "      <td>20220407</td>\n",
       "      <td>0</td>\n",
       "      <td>Thu</td>\n",
       "      <td>NYN</td>\n",
       "      <td>NL</td>\n",
       "      <td>1</td>\n",
       "      <td>WAS</td>\n",
       "      <td>NL</td>\n",
       "      <td>1</td>\n",
       "      <td>5</td>\n",
       "      <td>...</td>\n",
       "      <td>Maikel Franco</td>\n",
       "      <td>5</td>\n",
       "      <td>escoa003</td>\n",
       "      <td>Alcides Escobar</td>\n",
       "      <td>6</td>\n",
       "      <td>roblv001</td>\n",
       "      <td>Victor Robles</td>\n",
       "      <td>8</td>\n",
       "      <td>NaN</td>\n",
       "      <td>Y</td>\n",
       "    </tr>\n",
       "  </tbody>\n",
       "</table>\n",
       "<p>5 rows × 161 columns</p>\n",
       "</div>"
      ],
      "text/plain": [
       "        0    1    2    3   4    5    6   7    8    9    ...              151  \\\n",
       "0  20220407    0  Thu  SDN  NL    1  ARI  NL    1    2  ...        Seth Beer   \n",
       "1  20220407    0  Thu  CIN  NL    1  ATL  NL    1    6  ...  Travis d'Arnaud   \n",
       "2  20220407    0  Thu  MIL  NL    1  CHN  NL    1    4  ...    Jason Heyward   \n",
       "3  20220407    0  Thu  PIT  NL    1  SLN  NL    1    0  ...    Yadier Molina   \n",
       "4  20220407    0  Thu  NYN  NL    1  WAS  NL    1    5  ...    Maikel Franco   \n",
       "\n",
       "   152       153              154  155       156              157  158  159  \\\n",
       "0   10  ellid002       Drew Ellis    5  perdg001  Gerardo Perdomo    6  NaN   \n",
       "1    2  dicka001   Alex Dickerson   10  swand001   Dansby Swanson    6  NaN   \n",
       "2    8  wisdp001   Patrick Wisdom    5  hoern001     Nico Hoerner    6  NaN   \n",
       "3    2  badeh001   Harrison Bader    8  edmat001      Tommy Edman    4  NaN   \n",
       "4    5  escoa003  Alcides Escobar    6  roblv001    Victor Robles    8  NaN   \n",
       "\n",
       "  160  \n",
       "0   Y  \n",
       "1   Y  \n",
       "2   Y  \n",
       "3   Y  \n",
       "4   Y  \n",
       "\n",
       "[5 rows x 161 columns]"
      ]
     },
     "execution_count": 21,
     "metadata": {},
     "output_type": "execute_result"
    }
   ],
   "source": [
    "#load data/gl2022.txt as df\n",
    "df = pd.read_csv('data/gl2022.txt', sep=',', header=None)\n",
    "df.head()"
   ]
  },
  {
   "cell_type": "markdown",
   "metadata": {},
   "source": [
    "Found it (glfields.txt)"
   ]
  },
  {
   "cell_type": "code",
   "execution_count": 31,
   "metadata": {},
   "outputs": [],
   "source": [
    "import re"
   ]
  },
  {
   "cell_type": "code",
   "execution_count": 32,
   "metadata": {},
   "outputs": [
    {
     "name": "stdout",
     "output_type": "stream",
     "text": [
      "Column 1: Date in the form \"yyyymmdd\"\n",
      "Column 2: Number of game:\n",
      "Column 3: Day of week  (\"Sun\",\"Mon\",\"Tue\",\"Wed\",\"Thu\",\"Fri\",\"Sat\")\n",
      "Column 4: Visiting team and league (1)\n",
      "Column 5: Visiting team and league (2)\n",
      "Column 6: Visiting team game number\n",
      "Column 7: Home team and league (1)\n",
      "Column 8: Home team and league (2)\n",
      "Column 9: Home team game number\n",
      "Column 10: Visiting and home team score (unquoted) (1)\n",
      "Column 11: Visiting and home team score (unquoted) (2)\n",
      "Column 12: Length of game in outs (unquoted).  A full 9-inning game would\n",
      "Column 13: Day/night indicator (\"D\" or \"N\")\n",
      "Column 14: Completion information.  If the game was completed at a\n",
      "Column 15: Forfeit information:\n",
      "Column 16: Protest information:\n",
      "Column 17: Park ID\n",
      "Column 18: Attendance (unquoted)\n",
      "Column 19: Time of game in minutes (unquoted)\n",
      "Column 20: Visiting and home line scores.  For example: (1)\n",
      "Column 21: Visiting and home line scores.  For example: (2)\n",
      "Column 22: Visiting team offensive statistics (unquoted) (in order): (1)\n",
      "Column 23: Visiting team offensive statistics (unquoted) (in order): (2)\n",
      "Column 24: Visiting team offensive statistics (unquoted) (in order): (3)\n",
      "Column 25: Visiting team offensive statistics (unquoted) (in order): (4)\n",
      "Column 26: Visiting team offensive statistics (unquoted) (in order): (5)\n",
      "Column 27: Visiting team offensive statistics (unquoted) (in order): (6)\n",
      "Column 28: Visiting team offensive statistics (unquoted) (in order): (7)\n",
      "Column 29: Visiting team offensive statistics (unquoted) (in order): (8)\n",
      "Column 30: Visiting team offensive statistics (unquoted) (in order): (9)\n",
      "Column 31: Visiting team offensive statistics (unquoted) (in order): (10)\n",
      "Column 32: Visiting team offensive statistics (unquoted) (in order): (11)\n",
      "Column 33: Visiting team offensive statistics (unquoted) (in order): (12)\n",
      "Column 34: Visiting team offensive statistics (unquoted) (in order): (13)\n",
      "Column 35: Visiting team offensive statistics (unquoted) (in order): (14)\n",
      "Column 36: Visiting team offensive statistics (unquoted) (in order): (15)\n",
      "Column 37: Visiting team offensive statistics (unquoted) (in order): (16)\n",
      "Column 38: Visiting team offensive statistics (unquoted) (in order): (17)\n",
      "Column 39: Visiting team pitching statistics (unquoted)(in order): (1)\n",
      "Column 40: Visiting team pitching statistics (unquoted)(in order): (2)\n",
      "Column 41: Visiting team pitching statistics (unquoted)(in order): (3)\n",
      "Column 42: Visiting team pitching statistics (unquoted)(in order): (4)\n",
      "Column 43: Visiting team pitching statistics (unquoted)(in order): (5)\n",
      "Column 44: Visiting team defensive statistics (unquoted) (in order): (1)\n",
      "Column 45: Visiting team defensive statistics (unquoted) (in order): (2)\n",
      "Column 46: Visiting team defensive statistics (unquoted) (in order): (3)\n",
      "Column 47: Visiting team defensive statistics (unquoted) (in order): (4)\n",
      "Column 48: Visiting team defensive statistics (unquoted) (in order): (5)\n",
      "Column 49: Visiting team defensive statistics (unquoted) (in order): (6)\n",
      "Column 50: Home team offensive statistics (1)\n",
      "Column 51: Home team offensive statistics (2)\n",
      "Column 52: Home team offensive statistics (3)\n",
      "Column 53: Home team offensive statistics (4)\n",
      "Column 54: Home team offensive statistics (5)\n",
      "Column 55: Home team offensive statistics (6)\n",
      "Column 56: Home team offensive statistics (7)\n",
      "Column 57: Home team offensive statistics (8)\n",
      "Column 58: Home team offensive statistics (9)\n",
      "Column 59: Home team offensive statistics (10)\n",
      "Column 60: Home team offensive statistics (11)\n",
      "Column 61: Home team offensive statistics (12)\n",
      "Column 62: Home team offensive statistics (13)\n",
      "Column 63: Home team offensive statistics (14)\n",
      "Column 64: Home team offensive statistics (15)\n",
      "Column 65: Home team offensive statistics (16)\n",
      "Column 66: Home team offensive statistics (17)\n",
      "Column 67: Home team pitching statistics (1)\n",
      "Column 68: Home team pitching statistics (2)\n",
      "Column 69: Home team pitching statistics (3)\n",
      "Column 70: Home team pitching statistics (4)\n",
      "Column 71: Home team pitching statistics (5)\n",
      "Column 72: Home team defensive statistics (1)\n",
      "Column 73: Home team defensive statistics (2)\n",
      "Column 74: Home team defensive statistics (3)\n",
      "Column 75: Home team defensive statistics (4)\n",
      "Column 76: Home team defensive statistics (5)\n",
      "Column 77: Home team defensive statistics (6)\n",
      "Column 78: Home plate umpire ID and name (1)\n",
      "Column 79: Home plate umpire ID and name (2)\n",
      "Column 80: 1B umpire ID and name (1)\n",
      "Column 81: 1B umpire ID and name (2)\n",
      "Column 82: 2B umpire ID and name (1)\n",
      "Column 83: 2B umpire ID and name (2)\n",
      "Column 84: 3B umpire ID and name (1)\n",
      "Column 85: 3B umpire ID and name (2)\n",
      "Column 86: LF umpire ID and name (1)\n",
      "Column 87: LF umpire ID and name (2)\n",
      "Column 88: RF umpire ID and name (1)\n",
      "Column 89: RF umpire ID and name (2)\n",
      "Column 90: Visiting team manager ID and name (1)\n",
      "Column 91: Visiting team manager ID and name (2)\n",
      "Column 92: Home team manager ID and name (1)\n",
      "Column 93: Home team manager ID and name (2)\n",
      "Column 94: Winning pitcher ID and name (1)\n",
      "Column 95: Winning pitcher ID and name (2)\n",
      "Column 96: Losing pitcher ID and name (1)\n",
      "Column 97: Losing pitcher ID and name (2)\n",
      "Column 98: Saving pitcher ID and name--\"\"\n",
      "Column 99: \"(none)\" if none awarded\n",
      "Column 100: Game Winning RBI batter ID and name--\"\"\n",
      "Column 101: \"(none)\" if none\n",
      "Column 102: Visiting starting pitcher ID and name (1)\n",
      "Column 103: Visiting starting pitcher ID and name (2)\n",
      "Column 104: Home starting pitcher ID and name (1)\n",
      "Column 105: Home starting pitcher ID and name (2)\n",
      "Column 106: Visiting starting players ID, name and defensive position, (1)\n",
      "Column 107: Visiting starting players ID, name and defensive position, (2)\n",
      "Column 108: Visiting starting players ID, name and defensive position, (3)\n",
      "Column 109: Visiting starting players ID, name and defensive position, (4)\n",
      "Column 110: Visiting starting players ID, name and defensive position, (5)\n",
      "Column 111: Visiting starting players ID, name and defensive position, (6)\n",
      "Column 112: Visiting starting players ID, name and defensive position, (7)\n",
      "Column 113: Visiting starting players ID, name and defensive position, (8)\n",
      "Column 114: Visiting starting players ID, name and defensive position, (9)\n",
      "Column 115: Visiting starting players ID, name and defensive position, (10)\n",
      "Column 116: Visiting starting players ID, name and defensive position, (11)\n",
      "Column 117: Visiting starting players ID, name and defensive position, (12)\n",
      "Column 118: Visiting starting players ID, name and defensive position, (13)\n",
      "Column 119: Visiting starting players ID, name and defensive position, (14)\n",
      "Column 120: Visiting starting players ID, name and defensive position, (15)\n",
      "Column 121: Visiting starting players ID, name and defensive position, (16)\n",
      "Column 122: Visiting starting players ID, name and defensive position, (17)\n",
      "Column 123: Visiting starting players ID, name and defensive position, (18)\n",
      "Column 124: Visiting starting players ID, name and defensive position, (19)\n",
      "Column 125: Visiting starting players ID, name and defensive position, (20)\n",
      "Column 126: Visiting starting players ID, name and defensive position, (21)\n",
      "Column 127: Visiting starting players ID, name and defensive position, (22)\n",
      "Column 128: Visiting starting players ID, name and defensive position, (23)\n",
      "Column 129: Visiting starting players ID, name and defensive position, (24)\n",
      "Column 130: Visiting starting players ID, name and defensive position, (25)\n",
      "Column 131: Visiting starting players ID, name and defensive position, (26)\n",
      "Column 132: Visiting starting players ID, name and defensive position, (27)\n",
      "Column 133: Home starting players ID, name and defensive position (1)\n",
      "Column 134: Home starting players ID, name and defensive position (2)\n",
      "Column 135: Home starting players ID, name and defensive position (3)\n",
      "Column 136: Home starting players ID, name and defensive position (4)\n",
      "Column 137: Home starting players ID, name and defensive position (5)\n",
      "Column 138: Home starting players ID, name and defensive position (6)\n",
      "Column 139: Home starting players ID, name and defensive position (7)\n",
      "Column 140: Home starting players ID, name and defensive position (8)\n",
      "Column 141: Home starting players ID, name and defensive position (9)\n",
      "Column 142: Home starting players ID, name and defensive position (10)\n",
      "Column 143: Home starting players ID, name and defensive position (11)\n",
      "Column 144: Home starting players ID, name and defensive position (12)\n",
      "Column 145: Home starting players ID, name and defensive position (13)\n",
      "Column 146: Home starting players ID, name and defensive position (14)\n",
      "Column 147: Home starting players ID, name and defensive position (15)\n",
      "Column 148: Home starting players ID, name and defensive position (16)\n",
      "Column 149: Home starting players ID, name and defensive position (17)\n",
      "Column 150: Home starting players ID, name and defensive position (18)\n",
      "Column 151: Home starting players ID, name and defensive position (19)\n",
      "Column 152: Home starting players ID, name and defensive position (20)\n",
      "Column 153: Home starting players ID, name and defensive position (21)\n",
      "Column 154: Home starting players ID, name and defensive position (22)\n",
      "Column 155: Home starting players ID, name and defensive position (23)\n",
      "Column 156: Home starting players ID, name and defensive position (24)\n",
      "Column 157: Home starting players ID, name and defensive position (25)\n",
      "Column 158: Home starting players ID, name and defensive position (26)\n",
      "Column 159: Home starting players ID, name and defensive position (27)\n",
      "Column 160: Additional information.  This is a grab-bag of informational\n",
      "Column 161: Acquisition information:\n"
     ]
    }
   ],
   "source": [
    "# Path to the downloaded text file\n",
    "file_path = \"data/glfields.txt\"\n",
    "\n",
    "# Initialize an empty dictionary to store column names\n",
    "column_dict = {}\n",
    "\n",
    "# Function to handle range-based columns\n",
    "def handle_range(start, end, description):\n",
    "    parts = description.split(\",\")\n",
    "    num_columns = (end - start + 1)\n",
    "    if len(parts) == num_columns:  # If description perfectly matches the number of columns\n",
    "        for i in range(start, end + 1):\n",
    "            column_dict[i] = parts[i - start].strip()\n",
    "    else:  # If description is vague, just use numbers\n",
    "        for i in range(start, end + 1):\n",
    "            column_dict[i] = f\"{description.strip()} ({i - start + 1})\"\n",
    "\n",
    "# Open the file and parse it line by line\n",
    "with open(file_path, 'r') as file:\n",
    "    for line in file:\n",
    "        # Strip leading/trailing whitespace\n",
    "        line = line.strip()\n",
    "\n",
    "        # Match lines with columns (e.g., '1', '4-5', '106-132')\n",
    "        match = re.match(r'^(\\d+)(?:-(\\d+))?\\s+(.*)', line)\n",
    "        if match:\n",
    "            start_col = int(match.group(1))\n",
    "            end_col = int(match.group(2)) if match.group(2) else start_col\n",
    "            description = match.group(3).strip()\n",
    "\n",
    "            if start_col != end_col:  # Handle range columns\n",
    "                handle_range(start_col, end_col, description)\n",
    "            else:  # Single column\n",
    "                column_dict[start_col] = description\n",
    "\n",
    "for col_num, col_name in column_dict.items():\n",
    "    print(f\"Column {col_num}: {col_name}\")\n",
    "    "
   ]
  },
  {
   "cell_type": "markdown",
   "metadata": {},
   "source": [
    "### (Extra Hard) Download the files for the past 5 years into a new folder and add them all into one data frame using pandas, then save that new file.\n",
    "* Try to not hard code in the file names. We want to do this programmatically because what if we want to add new/more file names in the future."
   ]
  },
  {
   "cell_type": "code",
   "execution_count": null,
   "metadata": {},
   "outputs": [],
   "source": []
  }
 ],
 "metadata": {
  "kernelspec": {
   "display_name": "Python 3 (ipykernel)",
   "language": "python",
   "name": "python3"
  },
  "language_info": {
   "codemirror_mode": {
    "name": "ipython",
    "version": 3
   },
   "file_extension": ".py",
   "mimetype": "text/x-python",
   "name": "python",
   "nbconvert_exporter": "python",
   "pygments_lexer": "ipython3",
   "version": "3.11.5"
  }
 },
 "nbformat": 4,
 "nbformat_minor": 4
}
